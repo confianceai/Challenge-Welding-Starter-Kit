{
 "cells": [
  {
   "cell_type": "markdown",
   "id": "65df3a32-1086-4488-9406-7b2ea57bb135",
   "metadata": {},
   "source": [
    "# Create a pytorch dataloader\n",
    "\n",
    "This notebook show how to create a pytorch dataloader from the dataset."
   ]
  },
  {
   "cell_type": "code",
   "execution_count": 13,
   "id": "7384700d-831e-4953-b6c2-89d031babd94",
   "metadata": {},
   "outputs": [],
   "source": [
    "import sys\n",
    "# sys.path.insert(0, \"..\") # For local tests without pkg installation, to make challenge_welding module visible \n",
    "from challenge_welding.tools import ChallengeWeldingDataset\n",
    "from torch.utils.data import DataLoader\n",
    "from challenge_welding.user_interface import ChallengeUI\n",
    "from torch.utils.data import DataLoader"
   ]
  },
  {
   "cell_type": "markdown",
   "id": "d4dee4f3-7c79-47df-ae82-2fc9f67659bd",
   "metadata": {},
   "source": [
    "## Get dataset list"
   ]
  },
  {
   "cell_type": "code",
   "execution_count": 14,
   "id": "3ad4dc2c-f825-4b2f-bc00-56b64e46b939",
   "metadata": {},
   "outputs": [
    {
     "name": "stdout",
     "output_type": "stream",
     "text": [
      "['example_mini_dataset', 'welding-detection-challenge-dataset']\n"
     ]
    }
   ],
   "source": [
    "# Initiate the user interface\n",
    "\n",
    "my_challenge_UI=ChallengeUI(cache_strategy=\"local\",cache_dir=\"notebooks_cache\")\n",
    "\n",
    "# Get list of available datasets\n",
    "\n",
    "ds_list=my_challenge_UI.list_datasets()\n",
    "print(ds_list)\n",
    "\n",
    "# In this example we will choose a small dataset\n",
    "\n",
    "ds_name=\"example_mini_dataset\""
   ]
  },
  {
   "cell_type": "markdown",
   "id": "e85eb369-e554-4ea1-b7a5-f9ad9d32567b",
   "metadata": {},
   "source": [
    "## Get your dataset metadata"
   ]
  },
  {
   "cell_type": "code",
   "execution_count": 15,
   "id": "c72ecf9f-9004-4de8-a050-e502b4314d3c",
   "metadata": {},
   "outputs": [
    {
     "name": "stdout",
     "output_type": "stream",
     "text": [
      "https://minio-storage.apps.confianceai-public.irtsysx.fr/challenge-welding/datasets/example_mini_dataset/metadata/ds_meta.parquet\n"
     ]
    }
   ],
   "source": [
    "# Load all metadata of your dataset\n",
    "ds_name=ds_name=\"example_mini_dataset\"\n",
    "# ds_name=\"welding-detection-challenge-dataset\"\n",
    "meta_df=my_challenge_UI.get_ds_metadata_dataframe(ds_name)"
   ]
  },
  {
   "cell_type": "markdown",
   "id": "4135502b-3434-4959-b41c-628cdb7114c4",
   "metadata": {},
   "source": [
    "## Initialize your torch dataloader on your dataset"
   ]
  },
  {
   "cell_type": "code",
   "execution_count": 16,
   "id": "efc57c29-014f-46ee-9ace-50a41f022e34",
   "metadata": {},
   "outputs": [
    {
     "name": "stdout",
     "output_type": "stream",
     "text": [
      "Cache storage has been activated in  notebooks_cache\n",
      "Cache directory has already been built, loading local metadata..\n",
      "local metadata loaded !\n",
      "0     challenge-welding/datasets/example_mini_datase...\n",
      "1     challenge-welding/datasets/example_mini_datase...\n",
      "2     challenge-welding/datasets/example_mini_datase...\n",
      "3     challenge-welding/datasets/example_mini_datase...\n",
      "4     challenge-welding/datasets/example_mini_datase...\n",
      "5     challenge-welding/datasets/example_mini_datase...\n",
      "6     challenge-welding/datasets/example_mini_datase...\n",
      "7     challenge-welding/datasets/example_mini_datase...\n",
      "8     challenge-welding/datasets/example_mini_datase...\n",
      "9     challenge-welding/datasets/example_mini_datase...\n",
      "10    challenge-welding/datasets/example_mini_datase...\n",
      "11    challenge-welding/datasets/example_mini_datase...\n",
      "12    challenge-welding/datasets/example_mini_datase...\n",
      "13    challenge-welding/datasets/example_mini_datase...\n",
      "14    challenge-welding/datasets/example_mini_datase...\n",
      "15    challenge-welding/datasets/example_mini_datase...\n",
      "16    challenge-welding/datasets/example_mini_datase...\n",
      "17    challenge-welding/datasets/example_mini_datase...\n",
      "18    challenge-welding/datasets/example_mini_datase...\n",
      "19    challenge-welding/datasets/example_mini_datase...\n",
      "20    challenge-welding/datasets/example_mini_datase...\n",
      "21    challenge-welding/datasets/example_mini_datase...\n",
      "22    challenge-welding/datasets/example_mini_datase...\n",
      "23    challenge-welding/datasets/example_mini_datase...\n",
      "24    challenge-welding/datasets/example_mini_datase...\n",
      "25    challenge-welding/datasets/example_mini_datase...\n",
      "26    challenge-welding/datasets/example_mini_datase...\n",
      "27    challenge-welding/datasets/example_mini_datase...\n",
      "28    challenge-welding/datasets/example_mini_datase...\n",
      "29    challenge-welding/datasets/example_mini_datase...\n",
      "30    challenge-welding/datasets/example_mini_datase...\n",
      "31    challenge-welding/datasets/example_mini_datase...\n",
      "32    challenge-welding/datasets/example_mini_datase...\n",
      "33    challenge-welding/datasets/example_mini_datase...\n",
      "34    challenge-welding/datasets/example_mini_datase...\n",
      "35    challenge-welding/datasets/example_mini_datase...\n",
      "36    challenge-welding/datasets/example_mini_datase...\n",
      "37    challenge-welding/datasets/example_mini_datase...\n",
      "38    challenge-welding/datasets/example_mini_datase...\n",
      "39    challenge-welding/datasets/example_mini_datase...\n",
      "40    challenge-welding/datasets/example_mini_datase...\n",
      "41    challenge-welding/datasets/example_mini_datase...\n",
      "42    challenge-welding/datasets/example_mini_datase...\n",
      "43    challenge-welding/datasets/example_mini_datase...\n",
      "44    challenge-welding/datasets/example_mini_datase...\n",
      "45    challenge-welding/datasets/example_mini_datase...\n",
      "46    challenge-welding/datasets/example_mini_datase...\n",
      "47    challenge-welding/datasets/example_mini_datase...\n",
      "48    challenge-welding/datasets/example_mini_datase...\n",
      "49    challenge-welding/datasets/example_mini_datase...\n",
      "Name: path, dtype: object\n",
      "Creating dataloader . .\n"
     ]
    }
   ],
   "source": [
    "# Create your dataloader\n",
    "dataloader=my_challenge_UI.create_pytorch_dataloader(input_df=meta_df.iloc[0:50],\n",
    "                                                     batch_size=10,\n",
    "                                                     shuffle=False,\n",
    "                                                     )"
   ]
  },
  {
   "cell_type": "markdown",
   "id": "4bcfc5ae-ccd8-4693-9a2a-faaf1aad2a32",
   "metadata": {},
   "source": [
    "## Test your dataloader"
   ]
  },
  {
   "cell_type": "code",
   "execution_count": 12,
   "id": "00840c60-77b8-48ce-81b3-1710ed25a2c4",
   "metadata": {},
   "outputs": [
    {
     "name": "stdout",
     "output_type": "stream",
     "text": [
      "batch number 0\n",
      "batch content image torch.Size([10, 540, 540, 3])\n",
      "batch content meta {'class': ['OK', 'OK', 'OK', 'OK', 'OK', 'OK', 'OK', 'OK', 'OK', 'OK'], 'timestamp': ['22/01/20 12:49', '20/02/20 23:53', '20/01/20 20:34', '18/07/2022 20:18', '03/10/19 21:14', '21/07/2022 22:44', '11/07/20 19:08', '04/11/2020 20:09', '11/03/20 17:59', '28/10/2020 18:47'], 'welding-seams': ['c33', 'c102', 'c20', 'c102', 'c20', 'c33', 'c20', 'c20', 'c102', 'c102'], 'labelling_type': ['expert', 'expert', 'expert', 'operator', 'expert', 'operator', 'expert', 'expert', 'expert', 'expert'], 'resolution': [tensor([540, 540, 540, 540, 540, 540, 540, 540, 540, 540]), tensor([540, 540, 540, 540, 540, 540, 540, 540, 540, 540])], 'path': ['challenge-welding/datasets/example_mini_dataset/c33/expert/sample_0.jpeg', 'challenge-welding/datasets/example_mini_dataset/c102/expert/sample_1.jpeg', 'challenge-welding/datasets/example_mini_dataset/c20/expert/sample_2.jpeg', 'challenge-welding/datasets/example_mini_dataset/c102/operator/sample_3.jpeg', 'challenge-welding/datasets/example_mini_dataset/c20/expert/sample_4.jpeg', 'challenge-welding/datasets/example_mini_dataset/c33/operator/sample_5.jpeg', 'challenge-welding/datasets/example_mini_dataset/c20/expert/sample_6.jpeg', 'challenge-welding/datasets/example_mini_dataset/c20/expert/sample_7.jpeg', 'challenge-welding/datasets/example_mini_dataset/c102/expert/sample_8.jpeg', 'challenge-welding/datasets/example_mini_dataset/c102/expert/sample_9.jpeg'], 'sha256': [b'GN\\xd7\\xa7B\\x98\\xb0r\\xa4\\xdfn\\x8cT\\x8e:\\xc077\\x99\\x1b\\r\\xb9\\xc9\\xe9\\x0b\\xc3s\\xc1y\\xc8\\nC', b's\\xf6;3i-\\x10\\xfd8y\\xf2\\xe1\\xa6JQ\\x84`\\xc6\\xa3\\xa6\\xbe\\x8b\\x98\\x14\\xce\\xf1\\xb8B\\xc6>C}', b'\\xdbZ\\xb3\\x12e&\\xd5\\x83\\x13*\\x87S\\xe1\\x19\\xc9\\xe8\\x9as\\x1a>7\\x89\\xba\\x00\\x98\\xb5\\xa9\\xaa\\x98_\\x98k', b'/c\\xe3\\xd9\\xc8|&\\xaf\\xb1}\\xf6\\xe3s\\xae\\xea\\x08\\x141\\xee\\x1f\\xe9\\x85\\xebg\\x7fX\\x93\\xb8\\xa5\\x03k\\xaa', b'\\xca%\\x0c\\x92\\x1f\\x0c\\x00\\xcc\\x02\\r\\xb8\\xf1\\xa8\\x00M\\xa6,\\xbbX\\x14n\\xc0m\\xeagcR\\x8d\\x98\\x1d\\xe5\\xc3', b'a\\xa3\\x93E%&\\xf9R\\x8b\\xfc\\xbb;2A\\xdb\\x87w\\x89\\xf8}\\x16\\xe0^h\\x05e\\xa8\\x8den\\\\\\xeb', b'G9\\x0c\\x94g\\x85\\xa4*v\\xff\\x17`a\\xeb\\xf38\\xb0Fq\\x15\\xdc\\xd0\\x05\\xda\\xd9\\xa1\\xd3\\x00\\xcaC\\xc9#', b'|\\xbd\\x81\\xde\\x08|[\\xc3{\\x9f\\x8f\\xb7\\x0c||\\xfb&\\xc9\\xe2\\x1b\\xeay\\x8d\\x87\\xcel\\xd1v\\xb4\\xad\\xde\\t', b'#P\\x81\\x98\\xa0\\xa6\\x9a\\x9c}\\x07\\xd4rSV\\r\\xfa\\xe4SF\\xa0(\\x8dK\\xdaW\\xa9\\xbe\\xcd\\xa3\\xf4n9', b'\\xce\\xaf\\x17z\\x80Y\\xf3\\x93\\xe1z\\x8c\\xcd\\xaf\\xe0\\xe6\\xfd\\x12+\\xd9\\x9a+0:\\x9a\\xc7\\xcd\\xb4\\x11X\\xf3\\xc5='], 'storage_type': ['s3', 's3', 's3', 's3', 's3', 's3', 's3', 's3', 's3', 's3'], 'data_origin': ['real', 'real', 'real', 'real', 'real', 'real', 'real', 'real', 'real', 'real'], 'blur_level': tensor([ 701.9383,  715.6707,  715.8574,  869.5130, 2676.2469, 1938.7930,\n",
      "        2831.6768, 4644.5389, 1411.3996, 2000.0135], dtype=torch.float64), 'blur_class': ['blur', 'blur', 'blur', 'blur', 'clean', 'clean', 'clean', 'clean', 'clean', 'clean'], 'luminosity_level': tensor([50.5334, 47.0506, 46.2042, 34.3593, 46.2562, 49.5096, 47.1012, 44.7739,\n",
      "        45.0821, 37.0251], dtype=torch.float64), 'external_path': ['http://minio-storage.apps.confianceai-public.irtsysx.fr/challenge-welding/datasets/example_mini_dataset/c33/expert/sample_0.jpeg', 'http://minio-storage.apps.confianceai-public.irtsysx.fr/challenge-welding/datasets/example_mini_dataset/c102/expert/sample_1.jpeg', 'http://minio-storage.apps.confianceai-public.irtsysx.fr/challenge-welding/datasets/example_mini_dataset/c20/expert/sample_2.jpeg', 'http://minio-storage.apps.confianceai-public.irtsysx.fr/challenge-welding/datasets/example_mini_dataset/c102/operator/sample_3.jpeg', 'http://minio-storage.apps.confianceai-public.irtsysx.fr/challenge-welding/datasets/example_mini_dataset/c20/expert/sample_4.jpeg', 'http://minio-storage.apps.confianceai-public.irtsysx.fr/challenge-welding/datasets/example_mini_dataset/c33/operator/sample_5.jpeg', 'http://minio-storage.apps.confianceai-public.irtsysx.fr/challenge-welding/datasets/example_mini_dataset/c20/expert/sample_6.jpeg', 'http://minio-storage.apps.confianceai-public.irtsysx.fr/challenge-welding/datasets/example_mini_dataset/c20/expert/sample_7.jpeg', 'http://minio-storage.apps.confianceai-public.irtsysx.fr/challenge-welding/datasets/example_mini_dataset/c102/expert/sample_8.jpeg', 'http://minio-storage.apps.confianceai-public.irtsysx.fr/challenge-welding/datasets/example_mini_dataset/c102/expert/sample_9.jpeg']}\n",
      "batch number 1\n",
      "batch content image torch.Size([10, 540, 540, 3])\n",
      "batch content meta {'class': ['OK', 'OK', 'OK', 'OK', 'OK', 'OK', 'OK', 'OK', 'OK', 'OK'], 'timestamp': ['20/07/20 15:14', '25/01/20 00:24', '08/09/20 17:47', '18/07/2022 23:24', '18/07/20 07:34', '21/07/2022 23:04', '22/10/2020 15:28', '28/07/2022 01:21', '18/06/20 06:14', '19/07/2022 04:56'], 'welding-seams': ['c102', 'c33', 'c20', 'c33', 'c20', 'c33', 'c102', 'c102', 'c102', 'c33'], 'labelling_type': ['expert', 'expert', 'expert', 'operator', 'expert', 'operator', 'expert', 'operator', 'expert', 'operator'], 'resolution': [tensor([540, 540, 540, 540, 540, 540, 540, 540, 540, 540]), tensor([540, 540, 540, 540, 540, 540, 540, 540, 540, 540])], 'path': ['challenge-welding/datasets/example_mini_dataset/c102/expert/sample_10.jpeg', 'challenge-welding/datasets/example_mini_dataset/c33/expert/sample_11.jpeg', 'challenge-welding/datasets/example_mini_dataset/c20/expert/sample_12.jpeg', 'challenge-welding/datasets/example_mini_dataset/c33/operator/sample_13.jpeg', 'challenge-welding/datasets/example_mini_dataset/c20/expert/sample_14.jpeg', 'challenge-welding/datasets/example_mini_dataset/c33/operator/sample_15.jpeg', 'challenge-welding/datasets/example_mini_dataset/c102/expert/sample_16.jpeg', 'challenge-welding/datasets/example_mini_dataset/c102/operator/sample_17.jpeg', 'challenge-welding/datasets/example_mini_dataset/c102/expert/sample_18.jpeg', 'challenge-welding/datasets/example_mini_dataset/c33/operator/sample_19.jpeg'], 'sha256': [b'Tzl\\x85\\xb0T.d\\xd8\\x8f\\xf8a\\x7fe\\x02\\xf6\\x1f^\\x8c\\xcbI>\\xa1\\xc1=\\xc6\\xcd\\xf2\\xe9\\x9f\\xc5\\x8c', b'\\x9fI\\x14Y\\x8bfp\\xa8L\\xdf\\xe1\\xaa\\xd0\\xcb[\\xaa\\x1d\\xdc\\xc8v\\t`z\\x8c\\xad\\xa8\\xcd\\x18&1\\xdf\\xbc', b'\\x86\\xa8\\xa4LL\\t\\xad\\xe3\\x8f\\xaa\\t\\xf2jk\\x02W\\xdb\\xbe\\xe7\\x8b\\xbcCKH\\x87\\xbc\\x99\\x02\\x00;\\xc2E', b'^\\xd4GH\\xc6h\\x93/\\x99\\x05p3\\xca\\xdd\\x07)P\\x0c\\x94\\x91^\\xc5\\xd3\\x19\\xc2U\\xa37\\rA\\xf6\\x15', b'@fF\\x96\\xf0hg\\x0cM1\\xf3&\\xca\\xe8:.\\x1f(g\\xd0f\\xc3\\x82\\xd9\\xe1\\x96b hlF0', b'\\x98ng\\x84oR\\x96K`E\\xb9\\xf2AA\\xdb\\xc1a\\x1a\\xfe\\x0c1\\xf9\\x88\\x966\\x84\\xe4Z\\xada\\x9d\\xd5', b'\\xf8\\x8c\\xe3\\xadA\\xf6aO\\x98C(\\x84\\xbf\\x18\\x00r\\xc0\\xf29i\\x0c\\x82FRT:\\x88c\\xa9\\xbcE,', b'\\x00?\\x01>O>t[\\xd9\\xea\\x1aC\\x06<\\x10\\xa5f\\x08Q\\xaa\\xf2\\x83\\x9fH\\x93\\xb5\\xe8c\\x0b6\\x01_', b'\\'[\\x98C\\x9c\\xaa\\x9c\\xb1\"t\\xb3\\x94\\'\\x9c\\x9f/m\\x89\\xa5{\\n\\xbd\\xa2\\x0e\\xd9\\xb5\\xacY}\\x16x<', b'\\x91\\xe36\\xa6\\xa3]\\x11\\xbc\\xd2\\xb5\\xb8\\xc2]\\xf5u\\xcc\\x1c\\x12\\xeb%\\xf4\\n\\xbe)T\\xe2]\\xeb\\xbe\\xde\\xe4U'], 'storage_type': ['s3', 's3', 's3', 's3', 's3', 's3', 's3', 's3', 's3', 's3'], 'data_origin': ['real', 'real', 'real', 'real', 'real', 'real', 'real', 'real', 'real', 'real'], 'blur_level': tensor([3304.2266,  354.2384, 2748.1792, 2166.1710, 1654.7428, 2178.6264,\n",
      "        2323.1409,  764.2295,  906.1563, 2061.8415], dtype=torch.float64), 'blur_class': ['clean', 'blur', 'clean', 'clean', 'clean', 'clean', 'clean', 'blur', 'blur', 'clean'], 'luminosity_level': tensor([38.0367, 50.4891, 47.3995, 47.2949, 46.2730, 48.8366, 38.1775, 35.5883,\n",
      "        40.9739, 45.8937], dtype=torch.float64), 'external_path': ['http://minio-storage.apps.confianceai-public.irtsysx.fr/challenge-welding/datasets/example_mini_dataset/c102/expert/sample_10.jpeg', 'http://minio-storage.apps.confianceai-public.irtsysx.fr/challenge-welding/datasets/example_mini_dataset/c33/expert/sample_11.jpeg', 'http://minio-storage.apps.confianceai-public.irtsysx.fr/challenge-welding/datasets/example_mini_dataset/c20/expert/sample_12.jpeg', 'http://minio-storage.apps.confianceai-public.irtsysx.fr/challenge-welding/datasets/example_mini_dataset/c33/operator/sample_13.jpeg', 'http://minio-storage.apps.confianceai-public.irtsysx.fr/challenge-welding/datasets/example_mini_dataset/c20/expert/sample_14.jpeg', 'http://minio-storage.apps.confianceai-public.irtsysx.fr/challenge-welding/datasets/example_mini_dataset/c33/operator/sample_15.jpeg', 'http://minio-storage.apps.confianceai-public.irtsysx.fr/challenge-welding/datasets/example_mini_dataset/c102/expert/sample_16.jpeg', 'http://minio-storage.apps.confianceai-public.irtsysx.fr/challenge-welding/datasets/example_mini_dataset/c102/operator/sample_17.jpeg', 'http://minio-storage.apps.confianceai-public.irtsysx.fr/challenge-welding/datasets/example_mini_dataset/c102/expert/sample_18.jpeg', 'http://minio-storage.apps.confianceai-public.irtsysx.fr/challenge-welding/datasets/example_mini_dataset/c33/operator/sample_19.jpeg']}\n",
      "batch number 2\n",
      "batch content image torch.Size([10, 540, 540, 3])\n",
      "batch content meta {'class': ['OK', 'OK', 'OK', 'OK', 'OK', 'OK', 'OK', 'OK', 'OK', 'OK'], 'timestamp': ['12/12/19 08:08', '21/07/2022 22:20', '09/10/19 23:20', '11/06/20 20:17', '19/07/2022 08:44', '28/07/20 23:28', '15/07/2022 06:10', '28/07/2022 02:09', '07/07/2022 06:05', '26/06/20 11:27'], 'welding-seams': ['c33', 'c33', 'c33', 'c33', 'c102', 'c102', 'c33', 'c102', 'c102', 'c33'], 'labelling_type': ['expert', 'operator', 'expert', 'expert', 'operator', 'expert', 'operator', 'operator', 'operator', 'expert'], 'resolution': [tensor([540, 540, 540, 540, 540, 540, 540, 540, 540, 540]), tensor([540, 540, 540, 540, 540, 540, 540, 540, 540, 540])], 'path': ['challenge-welding/datasets/example_mini_dataset/c33/expert/sample_20.jpeg', 'challenge-welding/datasets/example_mini_dataset/c33/operator/sample_21.jpeg', 'challenge-welding/datasets/example_mini_dataset/c33/expert/sample_22.jpeg', 'challenge-welding/datasets/example_mini_dataset/c33/expert/sample_23.jpeg', 'challenge-welding/datasets/example_mini_dataset/c102/operator/sample_24.jpeg', 'challenge-welding/datasets/example_mini_dataset/c102/expert/sample_25.jpeg', 'challenge-welding/datasets/example_mini_dataset/c33/operator/sample_26.jpeg', 'challenge-welding/datasets/example_mini_dataset/c102/operator/sample_27.jpeg', 'challenge-welding/datasets/example_mini_dataset/c102/operator/sample_28.jpeg', 'challenge-welding/datasets/example_mini_dataset/c33/expert/sample_29.jpeg'], 'sha256': [b'\\x86*\\x9d@\\xa7\\x1c\\xe8\\x8f\\xc5\\xb4v\\xc0p1\\xc3[\\xa5\\xbb\\xff\\xfe\\xc9\\xe5\\xee\\x0bk\\xb5\\x95|\\x13\\xc8h\\x8a', b'\\xb5\\xa1\\xb9\\xd2\\xfc1)\\xde\\xb1IF\\xa0>\\xcb\\xbd\\xeeI{\\x1e\\x9evB\\xbdL8\\xf8m0T[\\xcf4', b\".t\\xff\\xdf, '\\x1dL\\x98\\xda\\xb0\\x1a3(J\\\\D\\xca\\xdf+r/'\\xc9\\xf9\\xa8\\x11\\x0f\\xf4\\x1e\\x88\", b'[\\xbay\\x85Z}7\\x8eDp\\x8d\\xbeX\\x85\\xd6\\x81\\xff\\xad\\xb6E)b\\x95[}\\x9f\\xdd~\\x99\\xeeE\\x97', b'\\x84_q\\x02\\xbfU\\xc6\\xdf\\x8e\\x87\\x84\\xb3\\xe7:\\t\\xac\\xa9T4-wi\\xcc\\xd7`X\\x1d\\xac\\x963\\xa6\\x0f', b'\\x92\\x8b\\x88=?0\\xb3\\xe1\\xac\\xc2\\x12{*\\xaa\\x98)@\\n\\xeb\\xa9h\\xf6C\\xe1\\xcb\\xd3j2CQ>V', b'\\x9e\\xd1aX+I\\x9c\\x8d\\xf6\\xdd\\xfd\\x8b\\xafU(\\x10\\x8fy\\\\\\xee\\x18\\x91\\xb0\\r+\\xbeh\\xdb\\xcf\\xa9F`', b'k\\xd2M\\xf4\\xf1?\\x1b\\x15\\xed=sk\\xef\\xc6\\r }\\xd7*\\x90\\xde\\x0c\\x9b\\xff\\xf9mh\\x88\\x1a\\x06\\xc6Q', b']\\xb7\\xf3\\x04\\x80W]\\xa5\\xb8\\xbe\\x16\\xc3\\xa6\\xe6b\\xbde\\xe0\\xe7\\x1f\\x81I\\xda\\x1c\\xca\\x1b\\xb3>\\xd1\\xd5=,', b'\\x7f\\xc9\\xc6l\\x02T\\x08\\xf4:=\\x90\\xb4\\xfft[\\x9a1\\xb1\\x14\\xd2r\\xb0\\xb9\\xd7RY^O\\x9c=\\xf1\\x9c'], 'storage_type': ['s3', 's3', 's3', 's3', 's3', 's3', 's3', 's3', 's3', 's3'], 'data_origin': ['real', 'real', 'real', 'real', 'real', 'real', 'real', 'real', 'real', 'real'], 'blur_level': tensor([ 881.5686, 2005.5529, 1253.0552,  300.9294,  784.5480, 3462.3427,\n",
      "        1983.4595,  863.3837,  979.8805,  142.3836], dtype=torch.float64), 'blur_class': ['blur', 'clean', 'clean', 'blur', 'blur', 'clean', 'clean', 'blur', 'clean', 'blur'], 'luminosity_level': tensor([45.4375, 48.8841, 46.3339, 36.9270, 34.3650, 34.1095, 47.3718, 34.8866,\n",
      "        33.2089, 40.4753], dtype=torch.float64), 'external_path': ['http://minio-storage.apps.confianceai-public.irtsysx.fr/challenge-welding/datasets/example_mini_dataset/c33/expert/sample_20.jpeg', 'http://minio-storage.apps.confianceai-public.irtsysx.fr/challenge-welding/datasets/example_mini_dataset/c33/operator/sample_21.jpeg', 'http://minio-storage.apps.confianceai-public.irtsysx.fr/challenge-welding/datasets/example_mini_dataset/c33/expert/sample_22.jpeg', 'http://minio-storage.apps.confianceai-public.irtsysx.fr/challenge-welding/datasets/example_mini_dataset/c33/expert/sample_23.jpeg', 'http://minio-storage.apps.confianceai-public.irtsysx.fr/challenge-welding/datasets/example_mini_dataset/c102/operator/sample_24.jpeg', 'http://minio-storage.apps.confianceai-public.irtsysx.fr/challenge-welding/datasets/example_mini_dataset/c102/expert/sample_25.jpeg', 'http://minio-storage.apps.confianceai-public.irtsysx.fr/challenge-welding/datasets/example_mini_dataset/c33/operator/sample_26.jpeg', 'http://minio-storage.apps.confianceai-public.irtsysx.fr/challenge-welding/datasets/example_mini_dataset/c102/operator/sample_27.jpeg', 'http://minio-storage.apps.confianceai-public.irtsysx.fr/challenge-welding/datasets/example_mini_dataset/c102/operator/sample_28.jpeg', 'http://minio-storage.apps.confianceai-public.irtsysx.fr/challenge-welding/datasets/example_mini_dataset/c33/expert/sample_29.jpeg']}\n",
      "batch number 3\n",
      "batch content image torch.Size([10, 540, 540, 3])\n",
      "batch content meta {'class': ['OK', 'OK', 'OK', 'OK', 'OK', 'OK', 'OK', 'OK', 'OK', 'OK'], 'timestamp': ['23/01/20 04:25', '23/11/19 12:39', '26/07/2022 22:37', '25/02/20 17:43', '25/01/20 01:03', '06/02/20 01:06', '22/10/19 16:51', '06/07/2022 04:48', '18/10/19 09:50', '09/07/20 03:36'], 'welding-seams': ['c33', 'c20', 'c33', 'c33', 'c102', 'c33', 'c33', 'c102', 'c20', 'c33'], 'labelling_type': ['expert', 'expert', 'operator', 'expert', 'expert', 'expert', 'expert', 'operator', 'expert', 'expert'], 'resolution': [tensor([540, 540, 540, 540, 540, 540, 540, 540, 540, 540]), tensor([540, 540, 540, 540, 540, 540, 540, 540, 540, 540])], 'path': ['challenge-welding/datasets/example_mini_dataset/c33/expert/sample_30.jpeg', 'challenge-welding/datasets/example_mini_dataset/c20/expert/sample_31.jpeg', 'challenge-welding/datasets/example_mini_dataset/c33/operator/sample_32.jpeg', 'challenge-welding/datasets/example_mini_dataset/c33/expert/sample_33.jpeg', 'challenge-welding/datasets/example_mini_dataset/c102/expert/sample_34.jpeg', 'challenge-welding/datasets/example_mini_dataset/c33/expert/sample_35.jpeg', 'challenge-welding/datasets/example_mini_dataset/c33/expert/sample_36.jpeg', 'challenge-welding/datasets/example_mini_dataset/c102/operator/sample_37.jpeg', 'challenge-welding/datasets/example_mini_dataset/c20/expert/sample_38.jpeg', 'challenge-welding/datasets/example_mini_dataset/c33/expert/sample_39.jpeg'], 'sha256': [b'z\\xf4\\x8d\\x94\\xee\\xcf\\n\\xad\\xbbaa\\xc98\\x99\\x03\\x9c\\xfbE\\xbd@(\\x10~\\xa7\\xb1\\xf9\\x045 U\\xbdQ', b\"\\xece\\xe6l\\xb72U\\xf5\\x07\\x84\\xd2\\xed\\xba\\x08\\xcfa\\x082d\\xac\\xf2loI\\xd3\\x86\\x01'v\\xbc\\x12\\xb8\", b'\\x10\\xa3\\xab\\xaa\\xf5\\xa8\\x18Be\\xd7{5\\x12v/G\\xdb7\\x87\\x84\\x81\\xd1]\\x07\\x19M\\xb3\\xfa~\\x1ae\\x07', b'e\\xd5^\\xf2x\\xf2\\xad\\x06\\xef\\x7f\\x8d\\x064\\x83\\\\\\xf2\\x86 D\\xb6\\xa1m\\xb5\\xa6?j#\\xec\\xdd\\xb6\\x7f\\r', b'\\x0e|0f]#\\xca\\x9b\\xd0\\xf01\\xa2\\xb19\\xb8\\xc9\\x9a-mE}\\xaa`3\\xdb\\xd5S\\x9c\\xcb\\xca\\x82g', b'\\x0f\\x94j\\xe6\\xcc\\x82\\xfb>\\x0e\\xe4+J\\x9d\\x06\\x06b\\xac^n\\xb1\\xc6\\t1d\\x0487P\\xfb\\xbbd\\x0f', b'?\\x15\\xea\\xe4\\x89H\\xa2aJB\\x06,\\xeb\\x07\\x88 \\xf1g(\\xf7\\xdc\\xdf\\xa824\\xcbm?y\\xab\\x01\\x81', b'5\\xc8\\xfe0}r\\x82\\x85i\\xb1\\xf6\\xe7\\x01iG\\x10\\xeePG\\x96\\xac\\xc0\\x99\\x85\\xd7\\xb9\\xddk\\xb5\\x7fS\\xd9', b'\\xb1C\\x00\\x03\\xd4\\xc1/z\\xf6\\xb6\\xce\\xdd)AK\\xa5\\xeaN4Id\\xbb\\xc0\\x80\\x9e\\xcc\\x11_\\xcf\\n\\xb73', b'aAem\\xea\\xe4\\x1dD\\xbb\\xdd\\x836m\\x94f\\xe9BQ\\x1b!\\xfe\\xf0\\x8c\\xdbP\\xed\\xd0{d\\xd5D\\xda'], 'storage_type': ['s3', 's3', 's3', 's3', 's3', 's3', 's3', 's3', 's3', 's3'], 'data_origin': ['real', 'real', 'real', 'real', 'real', 'real', 'real', 'real', 'real', 'real'], 'blur_level': tensor([ 472.3743, 2746.9149, 2096.6440,  701.6914, 1561.1318,  729.0823,\n",
      "         798.0189,  792.9252, 1909.7963,  172.7467], dtype=torch.float64), 'blur_class': ['blur', 'clean', 'clean', 'blur', 'clean', 'blur', 'blur', 'blur', 'clean', 'blur'], 'luminosity_level': tensor([51.8445, 46.7379, 46.1973, 45.9889, 46.8788, 43.9443, 47.1264, 32.6537,\n",
      "        47.3387, 38.5702], dtype=torch.float64), 'external_path': ['http://minio-storage.apps.confianceai-public.irtsysx.fr/challenge-welding/datasets/example_mini_dataset/c33/expert/sample_30.jpeg', 'http://minio-storage.apps.confianceai-public.irtsysx.fr/challenge-welding/datasets/example_mini_dataset/c20/expert/sample_31.jpeg', 'http://minio-storage.apps.confianceai-public.irtsysx.fr/challenge-welding/datasets/example_mini_dataset/c33/operator/sample_32.jpeg', 'http://minio-storage.apps.confianceai-public.irtsysx.fr/challenge-welding/datasets/example_mini_dataset/c33/expert/sample_33.jpeg', 'http://minio-storage.apps.confianceai-public.irtsysx.fr/challenge-welding/datasets/example_mini_dataset/c102/expert/sample_34.jpeg', 'http://minio-storage.apps.confianceai-public.irtsysx.fr/challenge-welding/datasets/example_mini_dataset/c33/expert/sample_35.jpeg', 'http://minio-storage.apps.confianceai-public.irtsysx.fr/challenge-welding/datasets/example_mini_dataset/c33/expert/sample_36.jpeg', 'http://minio-storage.apps.confianceai-public.irtsysx.fr/challenge-welding/datasets/example_mini_dataset/c102/operator/sample_37.jpeg', 'http://minio-storage.apps.confianceai-public.irtsysx.fr/challenge-welding/datasets/example_mini_dataset/c20/expert/sample_38.jpeg', 'http://minio-storage.apps.confianceai-public.irtsysx.fr/challenge-welding/datasets/example_mini_dataset/c33/expert/sample_39.jpeg']}\n"
     ]
    }
   ],
   "source": [
    "# Test your dataloader       \n",
    "for i_batch, sample_batched in enumerate(dataloader):\n",
    "    print(\"batch number\", i_batch)\n",
    "    print(\"batch content image\",    sample_batched['image'].shape)\n",
    "    print(\"batch content meta\",sample_batched['meta'])\n",
    "\n",
    "    # observe 4th batch and stop.\n",
    "    if i_batch == 3:\n",
    "        break"
   ]
  },
  {
   "cell_type": "code",
   "execution_count": null,
   "id": "23ab7707-c3ce-40e8-8654-b72f298ede9e",
   "metadata": {},
   "outputs": [],
   "source": []
  }
 ],
 "metadata": {
  "kernelspec": {
   "display_name": "env-test-starter-kit",
   "language": "python",
   "name": "env-test-starter-kit"
  },
  "language_info": {
   "codemirror_mode": {
    "name": "ipython",
    "version": 3
   },
   "file_extension": ".py",
   "mimetype": "text/x-python",
   "name": "python",
   "nbconvert_exporter": "python",
   "pygments_lexer": "ipython3",
   "version": "3.12.7"
  }
 },
 "nbformat": 4,
 "nbformat_minor": 5
}
