{
 "cells": [
  {
   "cell_type": "markdown",
   "id": "65df3a32-1086-4488-9406-7b2ea57bb135",
   "metadata": {},
   "source": [
    "# Create a pytorch dataloader\n",
    "\n",
    "This notebook show how to create a pytorch dataloader from the challenge dataset. It helps the participants to provide the batches required for the training of their AI component."
   ]
  },
  {
   "cell_type": "markdown",
   "id": "63c38089",
   "metadata": {},
   "source": [
    "### Prerequisites\n",
    "Install the dependencies if it is not already done. For more information look at the [readme](../README.md) file."
   ]
  },
  {
   "cell_type": "markdown",
   "id": "e869d5c1",
   "metadata": {},
   "source": [
    "##### For development on Local Machine"
   ]
  },
  {
   "cell_type": "code",
   "execution_count": null,
   "id": "2a378aaa",
   "metadata": {},
   "outputs": [],
   "source": [
    "### Install a virtual environment\n",
    "# Option 1:  using conda (recommended)\n",
    "!conda create -n venv python=3.12\n",
    "!conda activate venv\n",
    "!pip install torch==2.6.0\n",
    "\n",
    "# Option 2: using virtualenv\n",
    "# !pip install virtualenv\n",
    "# !virtualenv -p /usr/bin/python3.12 venv\n",
    "# !source venv_lips/bin/activate\n",
    "\n",
    "### Install the welding challenge package\n",
    "# Option 1: Get the last version from Pypi\n",
    "# !pip install 'challenge_welding'\n",
    "\n",
    "# Option 2: Get the last version from github repository\n",
    "# !git clone https://github.com/XX\n",
    "# !pip install -U ."
   ]
  },
  {
   "cell_type": "markdown",
   "id": "ae586985",
   "metadata": {},
   "source": [
    "##### For Google Colab Users\n",
    "You could also use a GPU device from Runtime > Change runtime type and by selecting T4 GPU."
   ]
  },
  {
   "cell_type": "code",
   "execution_count": null,
   "id": "851c5920",
   "metadata": {},
   "outputs": [],
   "source": [
    "### Install the welding challenge package\n",
    "# Option 1: Get the last version of LIPS framework from PyPI (Recommended)\n",
    "!pip install 'XX'\n",
    "!pip install torch==2.6.0"
   ]
  },
  {
   "cell_type": "code",
   "execution_count": null,
   "id": "ac061fac",
   "metadata": {},
   "outputs": [],
   "source": [
    "# Option 2: Get the last version from github repository\n",
    "!git clone https://github.com/XX\n",
    "!pip install -U .\n",
    "!pip install torch==2.6.0"
   ]
  },
  {
   "cell_type": "markdown",
   "id": "107ef078",
   "metadata": {},
   "source": [
    "Attention: You may restart the session after this installation, in order that the changes be effective."
   ]
  },
  {
   "cell_type": "code",
   "execution_count": null,
   "id": "24573f9e",
   "metadata": {},
   "outputs": [],
   "source": [
    "# Clone the starting kit\n",
    "!git clone https://github.com/confianceai/Challenge-Welding-Starter-Kit.git\n",
    "# and change the directory to the starting kit to be able to run correctly this notebook\n",
    "import os\n",
    "os.chdir(\"Challenge-Welding-Starter-Kit\")"
   ]
  },
  {
   "cell_type": "markdown",
   "id": "f1adad47",
   "metadata": {},
   "source": [
    "## Import the required libraries "
   ]
  },
  {
   "cell_type": "code",
   "execution_count": null,
   "id": "7384700d-831e-4953-b6c2-89d031babd94",
   "metadata": {},
   "outputs": [],
   "source": [
    "import sys\n",
    "# sys.path.insert(0, \"..\") # For local tests without pkg installation, to make challenge_welding module visible \n",
    "from challenge_welding.user_interface import ChallengeUI"
   ]
  },
  {
   "cell_type": "markdown",
   "id": "d4dee4f3-7c79-47df-ae82-2fc9f67659bd",
   "metadata": {},
   "source": [
    "## Load the required dataset \n",
    "\n",
    "### Get dataset list"
   ]
  },
  {
   "cell_type": "code",
   "execution_count": null,
   "id": "3ad4dc2c-f825-4b2f-bc00-56b64e46b939",
   "metadata": {},
   "outputs": [],
   "source": [
    "# Initiate the user interface\n",
    "\n",
    "my_challenge_UI=ChallengeUI(cache_strategy=\"local\",cache_dir=\"notebooks_cache\")\n",
    "\n",
    "# Get list of available datasets\n",
    "\n",
    "ds_list=my_challenge_UI.list_datasets()\n",
    "print(ds_list)\n",
    "\n",
    "# In this example we will choose a small dataset\n",
    "\n",
    "ds_name=\"example_mini_dataset\""
   ]
  },
  {
   "cell_type": "markdown",
   "id": "e85eb369-e554-4ea1-b7a5-f9ad9d32567b",
   "metadata": {},
   "source": [
    "### Get your dataset metadata\n",
    "For demonstration we use `example_mini_dataset` dataset, however, **the participant should use the complete dataset `welding-detection-challenge-dataset` for the challenge purpose.**"
   ]
  },
  {
   "cell_type": "code",
   "execution_count": 3,
   "id": "c72ecf9f-9004-4de8-a050-e502b4314d3c",
   "metadata": {},
   "outputs": [],
   "source": [
    "# Load all metadata of your dataset\n",
    "ds_name=ds_name=\"example_mini_dataset\"\n",
    "# ds_name=\"welding-detection-challenge-dataset\"\n",
    "meta_df=my_challenge_UI.get_ds_metadata_dataframe(ds_name)"
   ]
  },
  {
   "cell_type": "markdown",
   "id": "4135502b-3434-4959-b41c-628cdb7114c4",
   "metadata": {},
   "source": [
    "## Create a Pytorch DataLoader on the imported dataset\n",
    "\n",
    "The `create_pytorch_dataloader` function of `my_challenge_UI` class allows to create a torch based DataLoader easily on your dataset."
   ]
  },
  {
   "cell_type": "code",
   "execution_count": null,
   "id": "efc57c29-014f-46ee-9ace-50a41f022e34",
   "metadata": {},
   "outputs": [],
   "source": [
    "# Create your dataloader\n",
    "dataloader=my_challenge_UI.create_pytorch_dataloader(input_df=meta_df.iloc[0:50],\n",
    "                                                     batch_size=10,\n",
    "                                                     shuffle=False,\n",
    "                                                     )"
   ]
  },
  {
   "cell_type": "markdown",
   "id": "4bcfc5ae-ccd8-4693-9a2a-faaf1aad2a32",
   "metadata": {},
   "source": [
    "## Visualize some batches of the created DataLoader"
   ]
  },
  {
   "cell_type": "code",
   "execution_count": null,
   "id": "00840c60-77b8-48ce-81b3-1710ed25a2c4",
   "metadata": {},
   "outputs": [],
   "source": [
    "# Test your dataloader       \n",
    "for i_batch, sample_batched in enumerate(dataloader):\n",
    "    print(\"batch number\", i_batch)\n",
    "    print(\"batch content image\",    sample_batched['image'].shape)\n",
    "    print(\"batch content meta\",sample_batched['meta'])\n",
    "\n",
    "    # observe 4th batch and stop.\n",
    "    if i_batch == 3:\n",
    "        break"
   ]
  }
 ],
 "metadata": {
  "kernelspec": {
   "display_name": "env_confiance_fresh",
   "language": "python",
   "name": "python3"
  },
  "language_info": {
   "codemirror_mode": {
    "name": "ipython",
    "version": 3
   },
   "file_extension": ".py",
   "mimetype": "text/x-python",
   "name": "python",
   "nbconvert_exporter": "python",
   "pygments_lexer": "ipython3",
   "version": "3.12.9"
  }
 },
 "nbformat": 4,
 "nbformat_minor": 5
}
